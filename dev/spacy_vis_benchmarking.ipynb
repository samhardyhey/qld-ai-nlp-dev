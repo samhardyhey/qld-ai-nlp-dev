{
 "cells": [
  {
   "cell_type": "code",
   "execution_count": null,
   "metadata": {},
   "outputs": [],
   "source": [
    "import timeit\n",
    "from IPython.core.interactiveshell import InteractiveShell\n",
    "import numpy as np\n",
    "from multiprocessing import cpu_count\n",
    "import spacy\n",
    "import pandas as pd\n",
    "import glob\n",
    "import re\n",
    "from bs4 import BeautifulSoup\n",
    "import uuid\n",
    "\n",
    "import matplotlib.pyplot as plt\n",
    "import seaborn as sns\n",
    "import seaborn as sns\n",
    "from matplotlib import rcParams\n",
    "\n",
    "rcParams[\"figure.figsize\"] = 8, 6\n",
    "sns.set_style(\"darkgrid\")\n",
    "sns.set_palette(\"pastel\", 12)\n",
    "\n",
    "nlp = spacy.load('en_core_web_md')\n",
    "\n",
    "InteractiveShell.ast_node_interactivity = \"all\""
   ]
  },
  {
   "cell_type": "code",
   "execution_count": null,
   "metadata": {},
   "outputs": [],
   "source": [
    "def remove_excess_char(string):\n",
    "    # new line/tab delimeters and barstad ascii variants\n",
    "    replacements = [\n",
    "        (\"\\n\", \" \"),\n",
    "        (\"\\r\", \" \"),\n",
    "        (\"\\t\", \" \"),\n",
    "        (\"\\\\n\", \" \"),\n",
    "        (\"\\\\r\", \" \"),\n",
    "        (\"\\\\t\", \" \"),\n",
    "    ]\n",
    "    for e in replacements:\n",
    "        string = string.replace(*e)\n",
    "    return ' '.join(string.split())\n",
    "\n",
    "def replace_malformed_hex(string):\n",
    "    string = string.replace(\"\\\\\", \" \")\n",
    "    string = re.sub(\"x[0-9]{2,3}\", \" \", string)\n",
    "    string = re.sub(\"xe[0-9]\", \" \", string)\n",
    "    return string\n",
    "\n",
    "def multi_process_spacy_docs(texts, nlp, n_process=None, batch_size=256):\n",
    "    if not n_process:\n",
    "        n_process = cpu_count()\n",
    "    # 1.0 ensure that multi-processing isn't used frivolously\n",
    "    num_docs = len(texts)\n",
    "    if num_docs <= 100:\n",
    "        return [nlp(e) for e in texts]\n",
    "\n",
    "    # 2.0 batch documents, ensure against memory overflows\n",
    "    iteration_size = batch_size * n_process\n",
    "    total_iterations = int(len(texts) / iteration_size)\n",
    "\n",
    "    if total_iterations < 1:\n",
    "        # redefine batch size to ensure best spread across CPU cores\n",
    "        optimal_batch_size = int(len(texts) / n_process)\n",
    "        return list(\n",
    "            nlp.pipe(texts, batch_size=optimal_batch_size, n_process=n_process)\n",
    "        )\n",
    "    else:\n",
    "        # otherwise, iterate through large chunks of documents\n",
    "        iteration_splits = np.array_split(texts, total_iterations)\n",
    "        docs = []\n",
    "        for split in iteration_splits:\n",
    "            docs.extend(\n",
    "                list(nlp.pipe(split, batch_size=batch_size, n_process=n_process))\n",
    "            )\n",
    "        return docs\n",
    "    \n",
    "def downsample_frame(df, n):\n",
    "    # either n or max records in frame\n",
    "    if df.shape[0] < n:\n",
    "        return df\n",
    "    else:\n",
    "        return df.sample(n=n, random_state=42)"
   ]
  },
  {
   "cell_type": "markdown",
   "metadata": {},
   "source": [
    "## Vis and Table Plotting"
   ]
  },
  {
   "cell_type": "code",
   "execution_count": null,
   "metadata": {},
   "outputs": [],
   "source": [
    "doc = nlp('otso is a machine learning company that specialises in the analysis of unstructured text data using state of the art natural language processing and artificial intelligence technology.')"
   ]
  },
  {
   "cell_type": "code",
   "execution_count": null,
   "metadata": {},
   "outputs": [],
   "source": [
    "# get token frame\n",
    "pd.DataFrame.from_records([{'text': e.text, 'start_char': e.idx, 'end_char': e.idx +\n",
    "                            len(e), 'is_digit': e.is_digit, 'is_punct': e.is_punct} for e in doc])"
   ]
  },
  {
   "cell_type": "code",
   "execution_count": null,
   "metadata": {},
   "outputs": [],
   "source": [
    "# render dependency parse\n",
    "from spacy import displacy\n",
    "doc = nlp('otso makes it easy to analyse all of your customer feedback and media mentions, from any source, at scale.')\n",
    "displacy.render(doc, style='dep', jupyter=True, options={'distance': 80, 'collapse_phrases': True, 'bg':'#ffffff'})"
   ]
  },
  {
   "cell_type": "code",
   "execution_count": null,
   "metadata": {},
   "outputs": [],
   "source": [
    "# get pos frame\n",
    "pd.DataFrame.from_records([{'text': e.text, 'pos': e.pos_,\n",
    "                            'lemma': e.lemma_, 'embedding_sentence': e.sent} for e in doc]).head(10)"
   ]
  },
  {
   "cell_type": "code",
   "execution_count": null,
   "metadata": {},
   "outputs": [],
   "source": [
    "list(doc.noun_chunks)"
   ]
  },
  {
   "cell_type": "code",
   "execution_count": null,
   "metadata": {},
   "outputs": [],
   "source": [
    "# get noun chunk frame\n",
    "pd.DataFrame.from_records([{'noun_chunk': e.text, 'root': e.root.text,\n",
    "                            'root_lemma': e.root.lemma_} for e in doc.noun_chunks]).head(10)"
   ]
  },
  {
   "cell_type": "code",
   "execution_count": null,
   "metadata": {},
   "outputs": [],
   "source": [
    "large_doc = ' '.join([\"With a lot of machine learning providers, it can feel like there's not a lot of room for flexibility, or specialisation to suit your needs. We built otso to address many of the shortfalls we saw in existing natural language systems, meaning it is built to work with a range of different use-cases, and can also be tuned and specialised to suit almost any natural language need.\",\n",
    "                      \"otso makes it easy to analyse all of your customer feedback and media mentions, from any source, at scale. Discover new insights and explore relationships within your world of data, powered by the latest advances in AI.\",\n",
    "                      \"otso can ingest your data in many different ways. Simply drag and drop your data files, integrate with external data partners, or work with our team to build a custom solution.\",\n",
    "                      ])"
   ]
  },
  {
   "cell_type": "code",
   "execution_count": null,
   "metadata": {},
   "outputs": [],
   "source": [
    "doc = nlp(large_doc)\n",
    "displacy.render(doc, style='ent', jupyter=True, options={'distance': 80, 'collapse_phrases': True, 'bg':'#ffffff'})"
   ]
  },
  {
   "cell_type": "code",
   "execution_count": null,
   "metadata": {},
   "outputs": [],
   "source": [
    "def fan_ents_single(doc):\n",
    "    # fan/tabulate all eities within a single doc\n",
    "    entities = []\n",
    "    for e in doc.ents:\n",
    "        # collect eity annotations\n",
    "        entities.append(\n",
    "            {\n",
    "                \"embedding_sentence\": e.sent.text,\n",
    "                \"entity\": e.text,\n",
    "                \"entity_label\": e.label_,\n",
    "                \"entity_lemma\": e.lemma_.lower(),\n",
    "                \"entity_pos\": e.root.pos_,\n",
    "                \"start\": e.start_char - e.sent.start_char,\n",
    "                \"end\": e.end_char - e.sent.start_char,\n",
    "            }\n",
    "        )\n",
    "    return pd.DataFrame.from_records(entities)"
   ]
  },
  {
   "cell_type": "code",
   "execution_count": null,
   "metadata": {},
   "outputs": [],
   "source": [
    "fan_ents_single(doc)"
   ]
  },
  {
   "cell_type": "code",
   "execution_count": null,
   "metadata": {},
   "outputs": [],
   "source": [
    "# get noun chunk frame\n",
    "pd.DataFrame.from_records([{'noun_chunk': e.text, 'root': e.root.text,\n",
    "                            'root_lemma': e.root.lemma_} for e in doc.noun_chunks]).head(10)"
   ]
  },
  {
   "cell_type": "markdown",
   "metadata": {},
   "source": [
    "## Benchmarking"
   ]
  },
  {
   "cell_type": "code",
   "execution_count": null,
   "metadata": {},
   "outputs": [],
   "source": [
    "def multi_process_spacy_docs(texts, nlp, n_process=None, batch_size=256):\n",
    "    if not n_process:\n",
    "        n_process = cpu_count()\n",
    "    # 1.0 ensure that multi-processing isn't used frivolously\n",
    "    num_docs = len(texts)\n",
    "    if num_docs <= 100:\n",
    "        return [nlp(e) for e in texts]\n",
    "\n",
    "    # 2.0 batch documents, ensure against memory overflows\n",
    "    iteration_size = batch_size * n_process\n",
    "    total_iterations = int(len(texts) / iteration_size)\n",
    "\n",
    "    if total_iterations < 1:\n",
    "        # redefine batch size to ensure best spread across CPU cores\n",
    "        optimal_batch_size = int(len(texts) / n_process)\n",
    "        return list(\n",
    "            nlp.pipe(texts, batch_size=optimal_batch_size, n_process=n_process)\n",
    "        )\n",
    "    else:\n",
    "        # otherwise, iterate through large chunks of documents\n",
    "        iteration_splits = np.array_split(texts, total_iterations)\n",
    "        docs = []\n",
    "        for split in iteration_splits:\n",
    "            docs.extend(\n",
    "                list(nlp.pipe(split, batch_size=batch_size, n_process=n_process))\n",
    "            )\n",
    "        return docs"
   ]
  },
  {
   "cell_type": "code",
   "execution_count": null,
   "metadata": {},
   "outputs": [],
   "source": [
    "df = (pd.concat([(pd.read_csv(e, usecols=['articleText', 'category', 'date'])) for e in glob.glob('../datasets/publications/**', recursive=True) if '.csv' in e], sort=True)\n",
    "      .pipe(lambda x: x[x.articleText.apply(lambda y: True if type(y) == str else False)])\n",
    "      # use a subset of documents to prototype\n",
    "      .sample(n=5000, random_state=42)\n",
    "      )"
   ]
  },
  {
   "cell_type": "code",
   "execution_count": null,
   "metadata": {},
   "outputs": [],
   "source": [
    "# benchmark wall times across different core configs\n",
    "wall_times = []\n",
    "for num_cores in [8, 16, 32]:\n",
    "    before = timeit.default_timer()\n",
    "    docs = multi_process_spacy_docs(\n",
    "        df.head(5000).articleText, nlp, n_process=num_cores, batch_size=512)\n",
    "    after = timeit.default_timer()\n",
    "    wall_times.append({'cores': num_cores, 'wall_time': after - before})\n",
    "    print('finished ', num_cores)\n",
    "    \n",
    "rcParams[\"figure.figsize\"] = 8, 8\n",
    "sns.lineplot(x='cores', y='wall_time', data=pd.DataFrame.from_records(wall_times))\n",
    "plt.title('Effect of Multi-core Spacy Pipe Operations, 5000 Documents')"
   ]
  },
  {
   "cell_type": "code",
   "execution_count": null,
   "metadata": {},
   "outputs": [],
   "source": [
    "# benchmark wall times across different pipeline configs\n",
    "pipeline_configs = {'tokenisation_ner_parser_tagger': [],\n",
    "                    'tokenisation_ner_parser': ['tagger'],\n",
    "                    'tokenisation_ner': ['tagger', 'parser'],\n",
    "                    'tokenisation': ['tagger', 'parser', 'ner']}\n",
    "wall_times = []\n",
    "\n",
    "for k, v in pipeline_configs.items():\n",
    "    before = timeit.default_timer()\n",
    "    docs = list(nlp.pipe(df.head(2000).articleText,\n",
    "                    batch_size=32, n_process=16, disable=v))\n",
    "    after = timeit.default_timer()\n",
    "    wall_times.append({'pipeline_config': k, 'wall_time': after - before})\n",
    "    print('finished', k)"
   ]
  },
  {
   "cell_type": "code",
   "execution_count": null,
   "metadata": {},
   "outputs": [],
   "source": [
    "rcParams[\"figure.figsize\"] = 8, 8\n",
    "sns.lineplot(x='pipeline_config', y='wall_time', data=pd.DataFrame.from_records(wall_times))\n",
    "plt.title('Effect of Simplifying Spacy Pipe Operations, 2000 Documents, 16 Cores')"
   ]
  }
 ],
 "metadata": {
  "kernelspec": {
   "display_name": "Python 3",
   "language": "python",
   "name": "python3"
  },
  "language_info": {
   "codemirror_mode": {
    "name": "ipython",
    "version": 3
   },
   "file_extension": ".py",
   "mimetype": "text/x-python",
   "name": "python",
   "nbconvert_exporter": "python",
   "pygments_lexer": "ipython3",
   "version": "3.6.6"
  }
 },
 "nbformat": 4,
 "nbformat_minor": 2
}
